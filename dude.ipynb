{
 "cells": [
  {
   "cell_type": "code",
   "execution_count": 69,
   "id": "9b95120b",
   "metadata": {},
   "outputs": [],
   "source": [
    "import polars as pl\n",
    "import matplotlib.pyplot as plt\n",
    "import numpy as np"
   ]
  },
  {
   "cell_type": "code",
   "execution_count": 12,
   "id": "bebd7a4e",
   "metadata": {},
   "outputs": [],
   "source": [
    "blocks = pl.read_parquet('dude_data/blocks.parquet')\n",
    "txs = pl.read_parquet('dude_data/txs.parquet').drop(['locktime'])\n",
    "inputs = pl.read_parquet('dude_data/inputs.parquet')\n",
    "outputs = pl.read_parquet('dude_data/outputs.parquet').drop(['script_size'])"
   ]
  },
  {
   "cell_type": "code",
   "execution_count": 13,
   "id": "aa20f793",
   "metadata": {},
   "outputs": [
    {
     "data": {
      "text/html": [
       "<div><style>\n",
       ".dataframe > thead > tr,\n",
       ".dataframe > tbody > tr {\n",
       "  text-align: right;\n",
       "  white-space: pre-wrap;\n",
       "}\n",
       "</style>\n",
       "<small>shape: (72, 4)</small><table border=\"1\" class=\"dataframe\"><thead><tr><th>block_id</th><th>block</th><th>timestamp</th><th>n_txs</th></tr><tr><td>str</td><td>i64</td><td>datetime[μs, UTC]</td><td>i64</td></tr></thead><tbody><tr><td>&quot;00000000000000000001a80ff6a5bb…</td><td>896334</td><td>2025-05-12 00:40:59 UTC</td><td>2672</td></tr><tr><td>&quot;000000000000000000020f4e0c2902…</td><td>896335</td><td>2025-05-12 01:14:19 UTC</td><td>3198</td></tr><tr><td>&quot;000000000000000000023aa96068b5…</td><td>896336</td><td>2025-05-12 01:21:08 UTC</td><td>3999</td></tr><tr><td>&quot;000000000000000000018c79254db4…</td><td>896337</td><td>2025-05-12 01:35:53 UTC</td><td>3884</td></tr><tr><td>&quot;000000000000000000010481d78804…</td><td>896338</td><td>2025-05-12 01:36:30 UTC</td><td>1252</td></tr><tr><td>&hellip;</td><td>&hellip;</td><td>&hellip;</td><td>&hellip;</td></tr><tr><td>&quot;0000000000000000000042ba25df6a…</td><td>896401</td><td>2025-05-12 11:32:18 UTC</td><td>546</td></tr><tr><td>&quot;00000000000000000000b28ecdd373…</td><td>896402</td><td>2025-05-12 11:41:17 UTC</td><td>2531</td></tr><tr><td>&quot;000000000000000000016f23b31869…</td><td>896403</td><td>2025-05-12 11:41:39 UTC</td><td>116</td></tr><tr><td>&quot;00000000000000000001cf1d3871c9…</td><td>896404</td><td>2025-05-12 11:53:20 UTC</td><td>2679</td></tr><tr><td>&quot;00000000000000000000c494ad7565…</td><td>896405</td><td>2025-05-12 12:04:26 UTC</td><td>2765</td></tr></tbody></table></div>"
      ],
      "text/plain": [
       "shape: (72, 4)\n",
       "┌─────────────────────────────────┬────────┬─────────────────────────┬───────┐\n",
       "│ block_id                        ┆ block  ┆ timestamp               ┆ n_txs │\n",
       "│ ---                             ┆ ---    ┆ ---                     ┆ ---   │\n",
       "│ str                             ┆ i64    ┆ datetime[μs, UTC]       ┆ i64   │\n",
       "╞═════════════════════════════════╪════════╪═════════════════════════╪═══════╡\n",
       "│ 00000000000000000001a80ff6a5bb… ┆ 896334 ┆ 2025-05-12 00:40:59 UTC ┆ 2672  │\n",
       "│ 000000000000000000020f4e0c2902… ┆ 896335 ┆ 2025-05-12 01:14:19 UTC ┆ 3198  │\n",
       "│ 000000000000000000023aa96068b5… ┆ 896336 ┆ 2025-05-12 01:21:08 UTC ┆ 3999  │\n",
       "│ 000000000000000000018c79254db4… ┆ 896337 ┆ 2025-05-12 01:35:53 UTC ┆ 3884  │\n",
       "│ 000000000000000000010481d78804… ┆ 896338 ┆ 2025-05-12 01:36:30 UTC ┆ 1252  │\n",
       "│ …                               ┆ …      ┆ …                       ┆ …     │\n",
       "│ 0000000000000000000042ba25df6a… ┆ 896401 ┆ 2025-05-12 11:32:18 UTC ┆ 546   │\n",
       "│ 00000000000000000000b28ecdd373… ┆ 896402 ┆ 2025-05-12 11:41:17 UTC ┆ 2531  │\n",
       "│ 000000000000000000016f23b31869… ┆ 896403 ┆ 2025-05-12 11:41:39 UTC ┆ 116   │\n",
       "│ 00000000000000000001cf1d3871c9… ┆ 896404 ┆ 2025-05-12 11:53:20 UTC ┆ 2679  │\n",
       "│ 00000000000000000000c494ad7565… ┆ 896405 ┆ 2025-05-12 12:04:26 UTC ┆ 2765  │\n",
       "└─────────────────────────────────┴────────┴─────────────────────────┴───────┘"
      ]
     },
     "execution_count": 13,
     "metadata": {},
     "output_type": "execute_result"
    }
   ],
   "source": [
    "blocks"
   ]
  },
  {
   "cell_type": "code",
   "execution_count": 14,
   "id": "8a73d4ea",
   "metadata": {},
   "outputs": [
    {
     "data": {
      "text/plain": [
       "True"
      ]
     },
     "execution_count": 14,
     "metadata": {},
     "output_type": "execute_result"
    }
   ],
   "source": [
    "blocks.sum()['n_txs'][0] == txs.shape[0]"
   ]
  },
  {
   "cell_type": "code",
   "execution_count": 15,
   "id": "de09c209",
   "metadata": {},
   "outputs": [
    {
     "data": {
      "text/plain": [
       "True"
      ]
     },
     "execution_count": 15,
     "metadata": {},
     "output_type": "execute_result"
    }
   ],
   "source": [
    "txs.sum()['n_inputs'][0] == inputs.shape[0]"
   ]
  },
  {
   "cell_type": "code",
   "execution_count": 16,
   "id": "514c7a34",
   "metadata": {},
   "outputs": [
    {
     "data": {
      "text/plain": [
       "True"
      ]
     },
     "execution_count": 16,
     "metadata": {},
     "output_type": "execute_result"
    }
   ],
   "source": [
    "txs.sum()['n_outputs'][0] == outputs.shape[0]"
   ]
  },
  {
   "cell_type": "code",
   "execution_count": 40,
   "id": "b3e35a27",
   "metadata": {},
   "outputs": [
    {
     "data": {
      "text/html": [
       "<div><style>\n",
       ".dataframe > thead > tr,\n",
       ".dataframe > tbody > tr {\n",
       "  text-align: right;\n",
       "  white-space: pre-wrap;\n",
       "}\n",
       "</style>\n",
       "<small>shape: (461_170, 14)</small><table border=\"1\" class=\"dataframe\"><thead><tr><th>block</th><th>txid</th><th>amount</th><th>log10</th><th>output_index</th><th>is_coinbase</th><th>is_too_many_inputs</th><th>is_too_many_outputs</th><th>is_one_output</th><th>is_witness_too_big</th><th>is_op_return</th><th>is_amount_too_small</th><th>is_amount_too_big</th><th>exclude</th></tr><tr><td>i64</td><td>str</td><td>i64</td><td>f64</td><td>i64</td><td>bool</td><td>bool</td><td>bool</td><td>bool</td><td>bool</td><td>bool</td><td>bool</td><td>bool</td><td>bool</td></tr></thead><tbody><tr><td>896334</td><td>&quot;b92c03f30b602c9722e82220ddd023…</td><td>317858038</td><td>8.502233</td><td>0</td><td>true</td><td>false</td><td>false</td><td>false</td><td>false</td><td>false</td><td>false</td><td>false</td><td>true</td></tr><tr><td>896334</td><td>&quot;b92c03f30b602c9722e82220ddd023…</td><td>0</td><td>0.0</td><td>1</td><td>true</td><td>false</td><td>false</td><td>false</td><td>false</td><td>true</td><td>true</td><td>false</td><td>true</td></tr><tr><td>896334</td><td>&quot;50d1ae7f52a172fd4377849fd651b5…</td><td>231716</td><td>5.364956</td><td>0</td><td>false</td><td>false</td><td>false</td><td>false</td><td>false</td><td>false</td><td>false</td><td>false</td><td>false</td></tr><tr><td>896334</td><td>&quot;50d1ae7f52a172fd4377849fd651b5…</td><td>0</td><td>0.0</td><td>1</td><td>false</td><td>false</td><td>false</td><td>false</td><td>false</td><td>true</td><td>true</td><td>false</td><td>true</td></tr><tr><td>896334</td><td>&quot;8281d304e8737173c23e39fb544544…</td><td>231716</td><td>5.364956</td><td>0</td><td>false</td><td>false</td><td>false</td><td>false</td><td>false</td><td>false</td><td>false</td><td>false</td><td>false</td></tr><tr><td>&hellip;</td><td>&hellip;</td><td>&hellip;</td><td>&hellip;</td><td>&hellip;</td><td>&hellip;</td><td>&hellip;</td><td>&hellip;</td><td>&hellip;</td><td>&hellip;</td><td>&hellip;</td><td>&hellip;</td><td>&hellip;</td><td>&hellip;</td></tr><tr><td>896405</td><td>&quot;0b8fad09919c56e6ea2e5753011f6e…</td><td>600</td><td>2.778151</td><td>7</td><td>false</td><td>false</td><td>true</td><td>false</td><td>false</td><td>false</td><td>true</td><td>false</td><td>true</td></tr><tr><td>896405</td><td>&quot;0b8fad09919c56e6ea2e5753011f6e…</td><td>600</td><td>2.778151</td><td>8</td><td>false</td><td>false</td><td>true</td><td>false</td><td>false</td><td>false</td><td>true</td><td>false</td><td>true</td></tr><tr><td>896405</td><td>&quot;0b8fad09919c56e6ea2e5753011f6e…</td><td>600</td><td>2.778151</td><td>9</td><td>false</td><td>false</td><td>true</td><td>false</td><td>false</td><td>false</td><td>true</td><td>false</td><td>true</td></tr><tr><td>896405</td><td>&quot;0b8fad09919c56e6ea2e5753011f6e…</td><td>34176</td><td>4.533721</td><td>10</td><td>false</td><td>false</td><td>true</td><td>false</td><td>false</td><td>false</td><td>false</td><td>false</td><td>true</td></tr><tr><td>896405</td><td>&quot;12a5aeb511115b5818ee8822534c06…</td><td>330</td><td>2.518514</td><td>0</td><td>false</td><td>false</td><td>false</td><td>true</td><td>false</td><td>false</td><td>true</td><td>false</td><td>true</td></tr></tbody></table></div>"
      ],
      "text/plain": [
       "shape: (461_170, 14)\n",
       "┌────────┬─────────────┬───────────┬──────────┬───┬────────────┬────────────┬────────────┬─────────┐\n",
       "│ block  ┆ txid        ┆ amount    ┆ log10    ┆ … ┆ is_op_retu ┆ is_amount_ ┆ is_amount_ ┆ exclude │\n",
       "│ ---    ┆ ---         ┆ ---       ┆ ---      ┆   ┆ rn         ┆ too_small  ┆ too_big    ┆ ---     │\n",
       "│ i64    ┆ str         ┆ i64       ┆ f64      ┆   ┆ ---        ┆ ---        ┆ ---        ┆ bool    │\n",
       "│        ┆             ┆           ┆          ┆   ┆ bool       ┆ bool       ┆ bool       ┆         │\n",
       "╞════════╪═════════════╪═══════════╪══════════╪═══╪════════════╪════════════╪════════════╪═════════╡\n",
       "│ 896334 ┆ b92c03f30b6 ┆ 317858038 ┆ 8.502233 ┆ … ┆ false      ┆ false      ┆ false      ┆ true    │\n",
       "│        ┆ 02c9722e822 ┆           ┆          ┆   ┆            ┆            ┆            ┆         │\n",
       "│        ┆ 20ddd023…   ┆           ┆          ┆   ┆            ┆            ┆            ┆         │\n",
       "│ 896334 ┆ b92c03f30b6 ┆ 0         ┆ 0.0      ┆ … ┆ true       ┆ true       ┆ false      ┆ true    │\n",
       "│        ┆ 02c9722e822 ┆           ┆          ┆   ┆            ┆            ┆            ┆         │\n",
       "│        ┆ 20ddd023…   ┆           ┆          ┆   ┆            ┆            ┆            ┆         │\n",
       "│ 896334 ┆ 50d1ae7f52a ┆ 231716    ┆ 5.364956 ┆ … ┆ false      ┆ false      ┆ false      ┆ false   │\n",
       "│        ┆ 172fd437784 ┆           ┆          ┆   ┆            ┆            ┆            ┆         │\n",
       "│        ┆ 9fd651b5…   ┆           ┆          ┆   ┆            ┆            ┆            ┆         │\n",
       "│ 896334 ┆ 50d1ae7f52a ┆ 0         ┆ 0.0      ┆ … ┆ true       ┆ true       ┆ false      ┆ true    │\n",
       "│        ┆ 172fd437784 ┆           ┆          ┆   ┆            ┆            ┆            ┆         │\n",
       "│        ┆ 9fd651b5…   ┆           ┆          ┆   ┆            ┆            ┆            ┆         │\n",
       "│ 896334 ┆ 8281d304e87 ┆ 231716    ┆ 5.364956 ┆ … ┆ false      ┆ false      ┆ false      ┆ false   │\n",
       "│        ┆ 37173c23e39 ┆           ┆          ┆   ┆            ┆            ┆            ┆         │\n",
       "│        ┆ fb544544…   ┆           ┆          ┆   ┆            ┆            ┆            ┆         │\n",
       "│ …      ┆ …           ┆ …         ┆ …        ┆ … ┆ …          ┆ …          ┆ …          ┆ …       │\n",
       "│ 896405 ┆ 0b8fad09919 ┆ 600       ┆ 2.778151 ┆ … ┆ false      ┆ true       ┆ false      ┆ true    │\n",
       "│        ┆ c56e6ea2e57 ┆           ┆          ┆   ┆            ┆            ┆            ┆         │\n",
       "│        ┆ 53011f6e…   ┆           ┆          ┆   ┆            ┆            ┆            ┆         │\n",
       "│ 896405 ┆ 0b8fad09919 ┆ 600       ┆ 2.778151 ┆ … ┆ false      ┆ true       ┆ false      ┆ true    │\n",
       "│        ┆ c56e6ea2e57 ┆           ┆          ┆   ┆            ┆            ┆            ┆         │\n",
       "│        ┆ 53011f6e…   ┆           ┆          ┆   ┆            ┆            ┆            ┆         │\n",
       "│ 896405 ┆ 0b8fad09919 ┆ 600       ┆ 2.778151 ┆ … ┆ false      ┆ true       ┆ false      ┆ true    │\n",
       "│        ┆ c56e6ea2e57 ┆           ┆          ┆   ┆            ┆            ┆            ┆         │\n",
       "│        ┆ 53011f6e…   ┆           ┆          ┆   ┆            ┆            ┆            ┆         │\n",
       "│ 896405 ┆ 0b8fad09919 ┆ 34176     ┆ 4.533721 ┆ … ┆ false      ┆ false      ┆ false      ┆ true    │\n",
       "│        ┆ c56e6ea2e57 ┆           ┆          ┆   ┆            ┆            ┆            ┆         │\n",
       "│        ┆ 53011f6e…   ┆           ┆          ┆   ┆            ┆            ┆            ┆         │\n",
       "│ 896405 ┆ 12a5aeb5111 ┆ 330       ┆ 2.518514 ┆ … ┆ false      ┆ true       ┆ false      ┆ true    │\n",
       "│        ┆ 15b5818ee88 ┆           ┆          ┆   ┆            ┆            ┆            ┆         │\n",
       "│        ┆ 22534c06…   ┆           ┆          ┆   ┆            ┆            ┆            ┆         │\n",
       "└────────┴─────────────┴───────────┴──────────┴───┴────────────┴────────────┴────────────┴─────────┘"
      ]
     },
     "execution_count": 40,
     "metadata": {},
     "output_type": "execute_result"
    }
   ],
   "source": [
    "txs2 = (\n",
    "    txs\n",
    "    .with_columns(\n",
    "        (pl.col('n_inputs') >= 6).alias('is_too_many_inputs'),\n",
    "        (pl.col('n_outputs') >= 3).alias('is_too_many_outputs'),\n",
    "        (pl.col('n_outputs') == 1).alias('is_one_output'),\n",
    "        (pl.col('witness_size') > 500).alias('is_witness_too_big'),\n",
    "    )\n",
    "    .drop(['n_inputs', 'n_outputs', 'witness_size'])\n",
    "    .join(outputs, on='txid', how='inner')\n",
    "    .with_columns(\n",
    "        (pl.col('amount') < 1000).alias('is_amount_too_small'),\n",
    "        (pl.col('amount') >= 10e8).alias('is_amount_too_big'),\n",
    "        # Check if amount is a power of 10\n",
    "        (\n",
    "            pl.when(pl.col('amount') <= 0)\n",
    "            .then(False)\n",
    "            .otherwise(pl.col('amount').log10())\n",
    "            .alias('log10')\n",
    "        )\n",
    "    )\n",
    "    .rename({'index': 'output_index'})\n",
    "    .select(\n",
    "        pl.col(['block', 'txid', 'amount', 'log10', 'output_index']),\n",
    "        pl.col('^is_.*$')\n",
    "    )\n",
    "    .with_columns(\n",
    "        pl.any_horizontal(pl.col('^is_.*$')).alias('exclude')\n",
    "    )\n",
    ")\n",
    "txs2"
   ]
  },
  {
   "cell_type": "code",
   "execution_count": 70,
   "id": "61885873",
   "metadata": {},
   "outputs": [],
   "source": [
    "txs2_nonzero = txs2.filter(pl.col('amount') > 0)\n",
    "min_amount = txs2_nonzero['amount'].min()\n",
    "max_amount = txs2_nonzero['amount'].max()\n",
    "bins = np.logspace(np.log10(min_amount), np.log10(max_amount), num=50)"
   ]
  },
  {
   "cell_type": "code",
   "execution_count": 73,
   "id": "8cd2fdba",
   "metadata": {},
   "outputs": [],
   "source": [
    "# Compute histogram manually\n",
    "hist = (\n",
    "    txs2_nonzero\n",
    "    .filter(\n",
    "        pl.col('amount') >= 10e8 # any 10+ BTC amount can be excluded \n",
    "    )\n",
    "    .with_columns(\n",
    "        pl.col('amount').cut(breaks=bins, include_breaks=True).alias('bin')\n",
    "    )\n",
    "    .group_by('bin')\n",
    "    .agg(count=pl.len())\n",
    "    .with_columns(\n",
    "        pl.col('bin').struct.field('breakpoint').alias('breakpoint'),\n",
    "        pl.col('count').fill_null(0)\n",
    "    )\n",
    "    .sort('breakpoint')\n",
    ")"
   ]
  },
  {
   "cell_type": "code",
   "execution_count": 74,
   "id": "70635343",
   "metadata": {},
   "outputs": [
    {
     "data": {
      "text/html": [
       "<div><style>\n",
       ".dataframe > thead > tr,\n",
       ".dataframe > tbody > tr {\n",
       "  text-align: right;\n",
       "  white-space: pre-wrap;\n",
       "}\n",
       "</style>\n",
       "<small>shape: (14, 3)</small><table border=\"1\" class=\"dataframe\"><thead><tr><th>bin</th><th>count</th><th>breakpoint</th></tr><tr><td>struct[2]</td><td>u32</td><td>f64</td></tr></thead><tbody><tr><td>{1.0477e9,&quot;(588400255.4573092, 1047695151.5307757]&quot;}</td><td>402</td><td>1.0477e9</td></tr><tr><td>{1.8655e9,&quot;(1047695151.5307757, 1865507569.6525261]&quot;}</td><td>1057</td><td>1.8655e9</td></tr><tr><td>{3.3217e9,&quot;(1865507569.6525261, 3321689985.2462926]&quot;}</td><td>504</td><td>3.3217e9</td></tr><tr><td>{5.9145e9,&quot;(3321689985.2462926, 5914542796.596995]&quot;}</td><td>499</td><td>5.9145e9</td></tr><tr><td>{1.0531e10,&quot;(5914542796.596995, 10531330933.39643]&quot;}</td><td>730</td><td>1.0531e10</td></tr><tr><td>&hellip;</td><td>&hellip;</td><td>&hellip;</td></tr><tr><td>{1.8849e11,&quot;(105859926016.32751, 188492323380.3038]&quot;}</td><td>9</td><td>1.8849e11</td></tr><tr><td>{3.3563e11,&quot;(188492323380.3038, 335626117552.97363]&quot;}</td><td>7</td><td>3.3563e11</td></tr><tr><td>{5.9761e11,&quot;(335626117552.97363, 597609965029.7646]&quot;}</td><td>3</td><td>5.9761e11</td></tr><tr><td>{1.0641e12,&quot;(597609965029.7646, 1064093798500.3778]&quot;}</td><td>4</td><td>1.0641e12</td></tr><tr><td>{1.8947e12,&quot;(1064093798500.3778, 1894706712179.0015]&quot;}</td><td>3</td><td>1.8947e12</td></tr></tbody></table></div>"
      ],
      "text/plain": [
       "shape: (14, 3)\n",
       "┌─────────────────────────────────┬───────┬────────────┐\n",
       "│ bin                             ┆ count ┆ breakpoint │\n",
       "│ ---                             ┆ ---   ┆ ---        │\n",
       "│ struct[2]                       ┆ u32   ┆ f64        │\n",
       "╞═════════════════════════════════╪═══════╪════════════╡\n",
       "│ {1.0477e9,\"(588400255.4573092,… ┆ 402   ┆ 1.0477e9   │\n",
       "│ {1.8655e9,\"(1047695151.5307757… ┆ 1057  ┆ 1.8655e9   │\n",
       "│ {3.3217e9,\"(1865507569.6525261… ┆ 504   ┆ 3.3217e9   │\n",
       "│ {5.9145e9,\"(3321689985.2462926… ┆ 499   ┆ 5.9145e9   │\n",
       "│ {1.0531e10,\"(5914542796.596995… ┆ 730   ┆ 1.0531e10  │\n",
       "│ …                               ┆ …     ┆ …          │\n",
       "│ {1.8849e11,\"(105859926016.3275… ┆ 9     ┆ 1.8849e11  │\n",
       "│ {3.3563e11,\"(188492323380.3038… ┆ 7     ┆ 3.3563e11  │\n",
       "│ {5.9761e11,\"(335626117552.9736… ┆ 3     ┆ 5.9761e11  │\n",
       "│ {1.0641e12,\"(597609965029.7646… ┆ 4     ┆ 1.0641e12  │\n",
       "│ {1.8947e12,\"(1064093798500.377… ┆ 3     ┆ 1.8947e12  │\n",
       "└─────────────────────────────────┴───────┴────────────┘"
      ]
     },
     "execution_count": 74,
     "metadata": {},
     "output_type": "execute_result"
    }
   ],
   "source": [
    "hist"
   ]
  },
  {
   "cell_type": "code",
   "execution_count": 75,
   "id": "705aaa4a",
   "metadata": {},
   "outputs": [
    {
     "data": {
      "image/png": "[encoded data removed]",
      "text/plain": [
       "<Figure size 640x480 with 1 Axes>"
      ]
     },
     "metadata": {},
     "output_type": "display_data"
    }
   ],
   "source": [
    "# Plot histogram with log scale\n",
    "plt.bar(hist['breakpoint'][:-1], hist['count'][:-1], width=np.diff(hist['breakpoint']))\n",
    "plt.xscale('log')\n",
    "plt.xlabel('Amount (log scale)')\n",
    "plt.ylabel('Frequency')\n",
    "plt.title('Histogram of Amounts (Log Bins)')\n",
    "plt.show()"
   ]
  },
  {
   "cell_type": "code",
   "execution_count": 76,
   "id": "ca4c7607",
   "metadata": {},
   "outputs": [
    {
     "data": {
      "text/html": [
       "<div><style>\n",
       ".dataframe > thead > tr,\n",
       ".dataframe > tbody > tr {\n",
       "  text-align: right;\n",
       "  white-space: pre-wrap;\n",
       "}\n",
       "</style>\n",
       "<small>shape: (9, 2)</small><table border=\"1\" class=\"dataframe\"><thead><tr><th>statistic</th><th>value</th></tr><tr><td>str</td><td>f64</td></tr></thead><tbody><tr><td>&quot;count&quot;</td><td>461170.0</td></tr><tr><td>&quot;null_count&quot;</td><td>0.0</td></tr><tr><td>&quot;mean&quot;</td><td>7.4274e7</td></tr><tr><td>&quot;std&quot;</td><td>4.9890e9</td></tr><tr><td>&quot;min&quot;</td><td>0.0</td></tr><tr><td>&quot;25%&quot;</td><td>850.0</td></tr><tr><td>&quot;50%&quot;</td><td>56158.0</td></tr><tr><td>&quot;75%&quot;</td><td>377366.0</td></tr><tr><td>&quot;max&quot;</td><td>1.8947e12</td></tr></tbody></table></div>"
      ],
      "text/plain": [
       "shape: (9, 2)\n",
       "┌────────────┬───────────┐\n",
       "│ statistic  ┆ value     │\n",
       "│ ---        ┆ ---       │\n",
       "│ str        ┆ f64       │\n",
       "╞════════════╪═══════════╡\n",
       "│ count      ┆ 461170.0  │\n",
       "│ null_count ┆ 0.0       │\n",
       "│ mean       ┆ 7.4274e7  │\n",
       "│ std        ┆ 4.9890e9  │\n",
       "│ min        ┆ 0.0       │\n",
       "│ 25%        ┆ 850.0     │\n",
       "│ 50%        ┆ 56158.0   │\n",
       "│ 75%        ┆ 377366.0  │\n",
       "│ max        ┆ 1.8947e12 │\n",
       "└────────────┴───────────┘"
      ]
     },
     "execution_count": 76,
     "metadata": {},
     "output_type": "execute_result"
    }
   ],
   "source": [
    "outputs['amount'].describe()"
   ]
  },
  {
   "cell_type": "code",
   "execution_count": null,
   "id": "6b1be669",
   "metadata": {},
   "outputs": [],
   "source": []
  }
 ],
 "metadata": {
  "kernelspec": {
   "display_name": ".venv",
   "language": "python",
   "name": "python3"
  },
  "language_info": {
   "codemirror_mode": {
    "name": "ipython",
    "version": 3
   },
   "file_extension": ".py",
   "mimetype": "text/x-python",
   "name": "python",
   "nbconvert_exporter": "python",
   "pygments_lexer": "ipython3",
   "version": "3.13.3"
  }
 },
 "nbformat": 4,
 "nbformat_minor": 5
}

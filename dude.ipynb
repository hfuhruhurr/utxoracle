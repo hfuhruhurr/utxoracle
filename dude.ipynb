{
 "cells": [
  {
   "cell_type": "code",
   "execution_count": 1,
   "id": "9b95120b",
   "metadata": {},
   "outputs": [],
   "source": [
    "import polars as pl"
   ]
  },
  {
   "cell_type": "code",
   "execution_count": 7,
   "id": "bebd7a4e",
   "metadata": {},
   "outputs": [
    {
     "data": {
      "text/html": [
       "<div><style>\n",
       ".dataframe > thead > tr,\n",
       ".dataframe > tbody > tr {\n",
       "  text-align: right;\n",
       "  white-space: pre-wrap;\n",
       "}\n",
       "</style>\n",
       "<small>shape: (2, 5)</small><table border=\"1\" class=\"dataframe\"><thead><tr><th>block_id</th><th>block</th><th>timestamp</th><th>n_txs</th><th>is_mainnet</th></tr><tr><td>str</td><td>i64</td><td>datetime[μs, UTC]</td><td>i64</td><td>bool</td></tr></thead><tbody><tr><td>&quot;00000000000000000001a80ff6a5bb…</td><td>896334</td><td>2025-05-12 00:40:59 UTC</td><td>2672</td><td>true</td></tr><tr><td>&quot;000000000000000000020f4e0c2902…</td><td>896335</td><td>2025-05-12 01:14:19 UTC</td><td>3198</td><td>true</td></tr></tbody></table></div>"
      ],
      "text/plain": [
       "shape: (2, 5)\n",
       "┌─────────────────────────────────┬────────┬─────────────────────────┬───────┬────────────┐\n",
       "│ block_id                        ┆ block  ┆ timestamp               ┆ n_txs ┆ is_mainnet │\n",
       "│ ---                             ┆ ---    ┆ ---                     ┆ ---   ┆ ---        │\n",
       "│ str                             ┆ i64    ┆ datetime[μs, UTC]       ┆ i64   ┆ bool       │\n",
       "╞═════════════════════════════════╪════════╪═════════════════════════╪═══════╪════════════╡\n",
       "│ 00000000000000000001a80ff6a5bb… ┆ 896334 ┆ 2025-05-12 00:40:59 UTC ┆ 2672  ┆ true       │\n",
       "│ 000000000000000000020f4e0c2902… ┆ 896335 ┆ 2025-05-12 01:14:19 UTC ┆ 3198  ┆ true       │\n",
       "└─────────────────────────────────┴────────┴─────────────────────────┴───────┴────────────┘"
      ]
     },
     "execution_count": 7,
     "metadata": {},
     "output_type": "execute_result"
    }
   ],
   "source": [
    "pl.read_parquet('dude_data/blocks.parquet')"
   ]
  },
  {
   "cell_type": "code",
   "execution_count": null,
   "id": "aa20f793",
   "metadata": {},
   "outputs": [],
   "source": []
  }
 ],
 "metadata": {
  "kernelspec": {
   "display_name": ".venv",
   "language": "python",
   "name": "python3"
  },
  "language_info": {
   "codemirror_mode": {
    "name": "ipython",
    "version": 3
   },
   "file_extension": ".py",
   "mimetype": "text/x-python",
   "name": "python",
   "nbconvert_exporter": "python",
   "pygments_lexer": "ipython3",
   "version": "3.13.3"
  }
 },
 "nbformat": 4,
 "nbformat_minor": 5
}
